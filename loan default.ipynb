{
 "cells": [
  {
   "cell_type": "markdown",
   "id": "e5e1a6e6",
   "metadata": {},
   "source": [
    "# Loan Default Prediction"
   ]
  },
  {
   "cell_type": "code",
   "execution_count": null,
   "id": "f6ee0d37",
   "metadata": {},
   "outputs": [],
   "source": [
    "import pandas as pd\n",
    "import numpy as np\n",
    "import matplotlib.pyplot as plt\n",
    "import seaborn as sns\n",
    "import warnings\n",
    "warnings.filterwarnings(\"ignore\")"
   ]
  },
  {
   "cell_type": "code",
   "execution_count": 2,
   "id": "a3ca1c65",
   "metadata": {},
   "outputs": [],
   "source": [
    "#Reading the dataset\n",
    "loan=pd.read_csv('Loan_Default.csv')"
   ]
  },
  {
   "cell_type": "code",
   "execution_count": 3,
   "id": "d98bc888",
   "metadata": {},
   "outputs": [
    {
     "data": {
      "text/html": [
       "<div>\n",
       "<style scoped>\n",
       "    .dataframe tbody tr th:only-of-type {\n",
       "        vertical-align: middle;\n",
       "    }\n",
       "\n",
       "    .dataframe tbody tr th {\n",
       "        vertical-align: top;\n",
       "    }\n",
       "\n",
       "    .dataframe thead th {\n",
       "        text-align: right;\n",
       "    }\n",
       "</style>\n",
       "<table border=\"1\" class=\"dataframe\">\n",
       "  <thead>\n",
       "    <tr style=\"text-align: right;\">\n",
       "      <th></th>\n",
       "      <th>ID</th>\n",
       "      <th>year</th>\n",
       "      <th>loan_limit</th>\n",
       "      <th>Gender</th>\n",
       "      <th>approv_in_adv</th>\n",
       "      <th>loan_type</th>\n",
       "      <th>loan_purpose</th>\n",
       "      <th>Credit_Worthiness</th>\n",
       "      <th>open_credit</th>\n",
       "      <th>business_or_commercial</th>\n",
       "      <th>...</th>\n",
       "      <th>credit_type</th>\n",
       "      <th>Credit_Score</th>\n",
       "      <th>co-applicant_credit_type</th>\n",
       "      <th>age</th>\n",
       "      <th>submission_of_application</th>\n",
       "      <th>LTV</th>\n",
       "      <th>Region</th>\n",
       "      <th>Security_Type</th>\n",
       "      <th>Status</th>\n",
       "      <th>dtir1</th>\n",
       "    </tr>\n",
       "  </thead>\n",
       "  <tbody>\n",
       "    <tr>\n",
       "      <th>0</th>\n",
       "      <td>24890</td>\n",
       "      <td>2019</td>\n",
       "      <td>cf</td>\n",
       "      <td>Sex Not Available</td>\n",
       "      <td>nopre</td>\n",
       "      <td>type1</td>\n",
       "      <td>p1</td>\n",
       "      <td>l1</td>\n",
       "      <td>nopc</td>\n",
       "      <td>nob/c</td>\n",
       "      <td>...</td>\n",
       "      <td>EXP</td>\n",
       "      <td>758</td>\n",
       "      <td>CIB</td>\n",
       "      <td>25-34</td>\n",
       "      <td>to_inst</td>\n",
       "      <td>98.728814</td>\n",
       "      <td>south</td>\n",
       "      <td>direct</td>\n",
       "      <td>1</td>\n",
       "      <td>45.0</td>\n",
       "    </tr>\n",
       "    <tr>\n",
       "      <th>1</th>\n",
       "      <td>24891</td>\n",
       "      <td>2019</td>\n",
       "      <td>cf</td>\n",
       "      <td>Male</td>\n",
       "      <td>nopre</td>\n",
       "      <td>type2</td>\n",
       "      <td>p1</td>\n",
       "      <td>l1</td>\n",
       "      <td>nopc</td>\n",
       "      <td>b/c</td>\n",
       "      <td>...</td>\n",
       "      <td>EQUI</td>\n",
       "      <td>552</td>\n",
       "      <td>EXP</td>\n",
       "      <td>55-64</td>\n",
       "      <td>to_inst</td>\n",
       "      <td>NaN</td>\n",
       "      <td>North</td>\n",
       "      <td>direct</td>\n",
       "      <td>1</td>\n",
       "      <td>NaN</td>\n",
       "    </tr>\n",
       "    <tr>\n",
       "      <th>2</th>\n",
       "      <td>24892</td>\n",
       "      <td>2019</td>\n",
       "      <td>cf</td>\n",
       "      <td>Male</td>\n",
       "      <td>pre</td>\n",
       "      <td>type1</td>\n",
       "      <td>p1</td>\n",
       "      <td>l1</td>\n",
       "      <td>nopc</td>\n",
       "      <td>nob/c</td>\n",
       "      <td>...</td>\n",
       "      <td>EXP</td>\n",
       "      <td>834</td>\n",
       "      <td>CIB</td>\n",
       "      <td>35-44</td>\n",
       "      <td>to_inst</td>\n",
       "      <td>80.019685</td>\n",
       "      <td>south</td>\n",
       "      <td>direct</td>\n",
       "      <td>0</td>\n",
       "      <td>46.0</td>\n",
       "    </tr>\n",
       "    <tr>\n",
       "      <th>3</th>\n",
       "      <td>24893</td>\n",
       "      <td>2019</td>\n",
       "      <td>cf</td>\n",
       "      <td>Male</td>\n",
       "      <td>nopre</td>\n",
       "      <td>type1</td>\n",
       "      <td>p4</td>\n",
       "      <td>l1</td>\n",
       "      <td>nopc</td>\n",
       "      <td>nob/c</td>\n",
       "      <td>...</td>\n",
       "      <td>EXP</td>\n",
       "      <td>587</td>\n",
       "      <td>CIB</td>\n",
       "      <td>45-54</td>\n",
       "      <td>not_inst</td>\n",
       "      <td>69.376900</td>\n",
       "      <td>North</td>\n",
       "      <td>direct</td>\n",
       "      <td>0</td>\n",
       "      <td>42.0</td>\n",
       "    </tr>\n",
       "    <tr>\n",
       "      <th>4</th>\n",
       "      <td>24894</td>\n",
       "      <td>2019</td>\n",
       "      <td>cf</td>\n",
       "      <td>Joint</td>\n",
       "      <td>pre</td>\n",
       "      <td>type1</td>\n",
       "      <td>p1</td>\n",
       "      <td>l1</td>\n",
       "      <td>nopc</td>\n",
       "      <td>nob/c</td>\n",
       "      <td>...</td>\n",
       "      <td>CRIF</td>\n",
       "      <td>602</td>\n",
       "      <td>EXP</td>\n",
       "      <td>25-34</td>\n",
       "      <td>not_inst</td>\n",
       "      <td>91.886544</td>\n",
       "      <td>North</td>\n",
       "      <td>direct</td>\n",
       "      <td>0</td>\n",
       "      <td>39.0</td>\n",
       "    </tr>\n",
       "  </tbody>\n",
       "</table>\n",
       "<p>5 rows × 34 columns</p>\n",
       "</div>"
      ],
      "text/plain": [
       "      ID  year loan_limit             Gender approv_in_adv loan_type  \\\n",
       "0  24890  2019         cf  Sex Not Available         nopre     type1   \n",
       "1  24891  2019         cf               Male         nopre     type2   \n",
       "2  24892  2019         cf               Male           pre     type1   \n",
       "3  24893  2019         cf               Male         nopre     type1   \n",
       "4  24894  2019         cf              Joint           pre     type1   \n",
       "\n",
       "  loan_purpose Credit_Worthiness open_credit business_or_commercial  ...  \\\n",
       "0           p1                l1        nopc                  nob/c  ...   \n",
       "1           p1                l1        nopc                    b/c  ...   \n",
       "2           p1                l1        nopc                  nob/c  ...   \n",
       "3           p4                l1        nopc                  nob/c  ...   \n",
       "4           p1                l1        nopc                  nob/c  ...   \n",
       "\n",
       "   credit_type  Credit_Score  co-applicant_credit_type    age  \\\n",
       "0          EXP           758                       CIB  25-34   \n",
       "1         EQUI           552                       EXP  55-64   \n",
       "2          EXP           834                       CIB  35-44   \n",
       "3          EXP           587                       CIB  45-54   \n",
       "4         CRIF           602                       EXP  25-34   \n",
       "\n",
       "   submission_of_application        LTV Region Security_Type  Status dtir1  \n",
       "0                    to_inst  98.728814  south        direct       1  45.0  \n",
       "1                    to_inst        NaN  North        direct       1   NaN  \n",
       "2                    to_inst  80.019685  south        direct       0  46.0  \n",
       "3                   not_inst  69.376900  North        direct       0  42.0  \n",
       "4                   not_inst  91.886544  North        direct       0  39.0  \n",
       "\n",
       "[5 rows x 34 columns]"
      ]
     },
     "execution_count": 3,
     "metadata": {},
     "output_type": "execute_result"
    }
   ],
   "source": [
    "loan.head()"
   ]
  },
  {
   "cell_type": "code",
   "execution_count": 4,
   "id": "2f3ca242",
   "metadata": {},
   "outputs": [
    {
     "data": {
      "text/html": [
       "<div>\n",
       "<style scoped>\n",
       "    .dataframe tbody tr th:only-of-type {\n",
       "        vertical-align: middle;\n",
       "    }\n",
       "\n",
       "    .dataframe tbody tr th {\n",
       "        vertical-align: top;\n",
       "    }\n",
       "\n",
       "    .dataframe thead th {\n",
       "        text-align: right;\n",
       "    }\n",
       "</style>\n",
       "<table border=\"1\" class=\"dataframe\">\n",
       "  <thead>\n",
       "    <tr style=\"text-align: right;\">\n",
       "      <th></th>\n",
       "      <th>ID</th>\n",
       "      <th>year</th>\n",
       "      <th>loan_limit</th>\n",
       "      <th>Gender</th>\n",
       "      <th>approv_in_adv</th>\n",
       "      <th>loan_type</th>\n",
       "      <th>loan_purpose</th>\n",
       "      <th>Credit_Worthiness</th>\n",
       "      <th>open_credit</th>\n",
       "      <th>business_or_commercial</th>\n",
       "      <th>...</th>\n",
       "      <th>credit_type</th>\n",
       "      <th>Credit_Score</th>\n",
       "      <th>co-applicant_credit_type</th>\n",
       "      <th>age</th>\n",
       "      <th>submission_of_application</th>\n",
       "      <th>LTV</th>\n",
       "      <th>Region</th>\n",
       "      <th>Security_Type</th>\n",
       "      <th>Status</th>\n",
       "      <th>dtir1</th>\n",
       "    </tr>\n",
       "  </thead>\n",
       "  <tbody>\n",
       "    <tr>\n",
       "      <th>148665</th>\n",
       "      <td>173555</td>\n",
       "      <td>2019</td>\n",
       "      <td>cf</td>\n",
       "      <td>Sex Not Available</td>\n",
       "      <td>nopre</td>\n",
       "      <td>type1</td>\n",
       "      <td>p3</td>\n",
       "      <td>l1</td>\n",
       "      <td>nopc</td>\n",
       "      <td>nob/c</td>\n",
       "      <td>...</td>\n",
       "      <td>CIB</td>\n",
       "      <td>659</td>\n",
       "      <td>EXP</td>\n",
       "      <td>55-64</td>\n",
       "      <td>to_inst</td>\n",
       "      <td>71.792763</td>\n",
       "      <td>south</td>\n",
       "      <td>direct</td>\n",
       "      <td>0</td>\n",
       "      <td>48.0</td>\n",
       "    </tr>\n",
       "    <tr>\n",
       "      <th>148666</th>\n",
       "      <td>173556</td>\n",
       "      <td>2019</td>\n",
       "      <td>cf</td>\n",
       "      <td>Male</td>\n",
       "      <td>nopre</td>\n",
       "      <td>type1</td>\n",
       "      <td>p1</td>\n",
       "      <td>l1</td>\n",
       "      <td>nopc</td>\n",
       "      <td>nob/c</td>\n",
       "      <td>...</td>\n",
       "      <td>CIB</td>\n",
       "      <td>569</td>\n",
       "      <td>CIB</td>\n",
       "      <td>25-34</td>\n",
       "      <td>not_inst</td>\n",
       "      <td>74.428934</td>\n",
       "      <td>south</td>\n",
       "      <td>direct</td>\n",
       "      <td>0</td>\n",
       "      <td>15.0</td>\n",
       "    </tr>\n",
       "    <tr>\n",
       "      <th>148667</th>\n",
       "      <td>173557</td>\n",
       "      <td>2019</td>\n",
       "      <td>cf</td>\n",
       "      <td>Male</td>\n",
       "      <td>nopre</td>\n",
       "      <td>type1</td>\n",
       "      <td>p4</td>\n",
       "      <td>l1</td>\n",
       "      <td>nopc</td>\n",
       "      <td>nob/c</td>\n",
       "      <td>...</td>\n",
       "      <td>CIB</td>\n",
       "      <td>702</td>\n",
       "      <td>EXP</td>\n",
       "      <td>45-54</td>\n",
       "      <td>not_inst</td>\n",
       "      <td>61.332418</td>\n",
       "      <td>North</td>\n",
       "      <td>direct</td>\n",
       "      <td>0</td>\n",
       "      <td>49.0</td>\n",
       "    </tr>\n",
       "    <tr>\n",
       "      <th>148668</th>\n",
       "      <td>173558</td>\n",
       "      <td>2019</td>\n",
       "      <td>cf</td>\n",
       "      <td>Female</td>\n",
       "      <td>nopre</td>\n",
       "      <td>type1</td>\n",
       "      <td>p4</td>\n",
       "      <td>l1</td>\n",
       "      <td>nopc</td>\n",
       "      <td>nob/c</td>\n",
       "      <td>...</td>\n",
       "      <td>EXP</td>\n",
       "      <td>737</td>\n",
       "      <td>EXP</td>\n",
       "      <td>55-64</td>\n",
       "      <td>to_inst</td>\n",
       "      <td>70.683453</td>\n",
       "      <td>North</td>\n",
       "      <td>direct</td>\n",
       "      <td>0</td>\n",
       "      <td>29.0</td>\n",
       "    </tr>\n",
       "    <tr>\n",
       "      <th>148669</th>\n",
       "      <td>173559</td>\n",
       "      <td>2019</td>\n",
       "      <td>cf</td>\n",
       "      <td>Female</td>\n",
       "      <td>nopre</td>\n",
       "      <td>type1</td>\n",
       "      <td>p3</td>\n",
       "      <td>l1</td>\n",
       "      <td>nopc</td>\n",
       "      <td>nob/c</td>\n",
       "      <td>...</td>\n",
       "      <td>CIB</td>\n",
       "      <td>830</td>\n",
       "      <td>CIB</td>\n",
       "      <td>45-54</td>\n",
       "      <td>not_inst</td>\n",
       "      <td>72.849462</td>\n",
       "      <td>North</td>\n",
       "      <td>direct</td>\n",
       "      <td>0</td>\n",
       "      <td>44.0</td>\n",
       "    </tr>\n",
       "  </tbody>\n",
       "</table>\n",
       "<p>5 rows × 34 columns</p>\n",
       "</div>"
      ],
      "text/plain": [
       "            ID  year loan_limit             Gender approv_in_adv loan_type  \\\n",
       "148665  173555  2019         cf  Sex Not Available         nopre     type1   \n",
       "148666  173556  2019         cf               Male         nopre     type1   \n",
       "148667  173557  2019         cf               Male         nopre     type1   \n",
       "148668  173558  2019         cf             Female         nopre     type1   \n",
       "148669  173559  2019         cf             Female         nopre     type1   \n",
       "\n",
       "       loan_purpose Credit_Worthiness open_credit business_or_commercial  ...  \\\n",
       "148665           p3                l1        nopc                  nob/c  ...   \n",
       "148666           p1                l1        nopc                  nob/c  ...   \n",
       "148667           p4                l1        nopc                  nob/c  ...   \n",
       "148668           p4                l1        nopc                  nob/c  ...   \n",
       "148669           p3                l1        nopc                  nob/c  ...   \n",
       "\n",
       "        credit_type  Credit_Score  co-applicant_credit_type    age  \\\n",
       "148665          CIB           659                       EXP  55-64   \n",
       "148666          CIB           569                       CIB  25-34   \n",
       "148667          CIB           702                       EXP  45-54   \n",
       "148668          EXP           737                       EXP  55-64   \n",
       "148669          CIB           830                       CIB  45-54   \n",
       "\n",
       "        submission_of_application        LTV Region Security_Type  Status  \\\n",
       "148665                    to_inst  71.792763  south        direct       0   \n",
       "148666                   not_inst  74.428934  south        direct       0   \n",
       "148667                   not_inst  61.332418  North        direct       0   \n",
       "148668                    to_inst  70.683453  North        direct       0   \n",
       "148669                   not_inst  72.849462  North        direct       0   \n",
       "\n",
       "       dtir1  \n",
       "148665  48.0  \n",
       "148666  15.0  \n",
       "148667  49.0  \n",
       "148668  29.0  \n",
       "148669  44.0  \n",
       "\n",
       "[5 rows x 34 columns]"
      ]
     },
     "execution_count": 4,
     "metadata": {},
     "output_type": "execute_result"
    }
   ],
   "source": [
    "loan.tail()"
   ]
  },
  {
   "cell_type": "code",
   "execution_count": 5,
   "id": "7fd2c4e2",
   "metadata": {},
   "outputs": [
    {
     "data": {
      "text/plain": [
       "(148670, 34)"
      ]
     },
     "execution_count": 5,
     "metadata": {},
     "output_type": "execute_result"
    }
   ],
   "source": [
    "loan.shape"
   ]
  },
  {
   "cell_type": "code",
   "execution_count": 6,
   "id": "f0bd38c3",
   "metadata": {},
   "outputs": [
    {
     "data": {
      "text/plain": [
       "Index(['ID', 'year', 'loan_limit', 'Gender', 'approv_in_adv', 'loan_type',\n",
       "       'loan_purpose', 'Credit_Worthiness', 'open_credit',\n",
       "       'business_or_commercial', 'loan_amount', 'rate_of_interest',\n",
       "       'Interest_rate_spread', 'Upfront_charges', 'term', 'Neg_ammortization',\n",
       "       'interest_only', 'lump_sum_payment', 'property_value',\n",
       "       'construction_type', 'occupancy_type', 'Secured_by', 'total_units',\n",
       "       'income', 'credit_type', 'Credit_Score', 'co-applicant_credit_type',\n",
       "       'age', 'submission_of_application', 'LTV', 'Region', 'Security_Type',\n",
       "       'Status', 'dtir1'],\n",
       "      dtype='object')"
      ]
     },
     "execution_count": 6,
     "metadata": {},
     "output_type": "execute_result"
    }
   ],
   "source": [
    "loan.columns"
   ]
  },
  {
   "cell_type": "code",
   "execution_count": 7,
   "id": "733b554a",
   "metadata": {},
   "outputs": [
    {
     "name": "stdout",
     "output_type": "stream",
     "text": [
      "loan_limit \t ['cf' nan 'ncf']\n",
      "Gender \t ['Sex Not Available' 'Male' 'Joint' 'Female']\n",
      "approv_in_adv \t ['nopre' 'pre' nan]\n",
      "loan_type \t ['type1' 'type2' 'type3']\n",
      "loan_purpose \t ['p1' 'p4' 'p3' 'p2' nan]\n",
      "Credit_Worthiness \t ['l1' 'l2']\n",
      "open_credit \t ['nopc' 'opc']\n",
      "business_or_commercial \t ['nob/c' 'b/c']\n",
      "Neg_ammortization \t ['not_neg' 'neg_amm' nan]\n",
      "interest_only \t ['not_int' 'int_only']\n",
      "lump_sum_payment \t ['not_lpsm' 'lpsm']\n",
      "construction_type \t ['sb' 'mh']\n",
      "occupancy_type \t ['pr' 'sr' 'ir']\n",
      "Secured_by \t ['home' 'land']\n",
      "total_units \t ['1U' '2U' '3U' '4U']\n",
      "credit_type \t ['EXP' 'EQUI' 'CRIF' 'CIB']\n",
      "co-applicant_credit_type \t ['CIB' 'EXP']\n",
      "age \t ['25-34' '55-64' '35-44' '45-54' '65-74' '>74' '<25' nan]\n",
      "submission_of_application \t ['to_inst' 'not_inst' nan]\n",
      "Region \t ['south' 'North' 'central' 'North-East']\n",
      "Security_Type \t ['direct' 'Indriect']\n"
     ]
    }
   ],
   "source": [
    "# columns with object data type\n",
    "for i in loan.columns:\n",
    "    if (loan[i].dtypes=='object'):\n",
    "        print(i,'\\t',loan[i].unique())"
   ]
  },
  {
   "cell_type": "code",
   "execution_count": 8,
   "id": "be5db42b",
   "metadata": {},
   "outputs": [
    {
     "name": "stdout",
     "output_type": "stream",
     "text": [
      "<class 'pandas.core.frame.DataFrame'>\n",
      "RangeIndex: 148670 entries, 0 to 148669\n",
      "Data columns (total 34 columns):\n",
      " #   Column                     Non-Null Count   Dtype  \n",
      "---  ------                     --------------   -----  \n",
      " 0   ID                         148670 non-null  int64  \n",
      " 1   year                       148670 non-null  int64  \n",
      " 2   loan_limit                 145326 non-null  object \n",
      " 3   Gender                     148670 non-null  object \n",
      " 4   approv_in_adv              147762 non-null  object \n",
      " 5   loan_type                  148670 non-null  object \n",
      " 6   loan_purpose               148536 non-null  object \n",
      " 7   Credit_Worthiness          148670 non-null  object \n",
      " 8   open_credit                148670 non-null  object \n",
      " 9   business_or_commercial     148670 non-null  object \n",
      " 10  loan_amount                148670 non-null  int64  \n",
      " 11  rate_of_interest           112231 non-null  float64\n",
      " 12  Interest_rate_spread       112031 non-null  float64\n",
      " 13  Upfront_charges            109028 non-null  float64\n",
      " 14  term                       148629 non-null  float64\n",
      " 15  Neg_ammortization          148549 non-null  object \n",
      " 16  interest_only              148670 non-null  object \n",
      " 17  lump_sum_payment           148670 non-null  object \n",
      " 18  property_value             133572 non-null  float64\n",
      " 19  construction_type          148670 non-null  object \n",
      " 20  occupancy_type             148670 non-null  object \n",
      " 21  Secured_by                 148670 non-null  object \n",
      " 22  total_units                148670 non-null  object \n",
      " 23  income                     139520 non-null  float64\n",
      " 24  credit_type                148670 non-null  object \n",
      " 25  Credit_Score               148670 non-null  int64  \n",
      " 26  co-applicant_credit_type   148670 non-null  object \n",
      " 27  age                        148470 non-null  object \n",
      " 28  submission_of_application  148470 non-null  object \n",
      " 29  LTV                        133572 non-null  float64\n",
      " 30  Region                     148670 non-null  object \n",
      " 31  Security_Type              148670 non-null  object \n",
      " 32  Status                     148670 non-null  int64  \n",
      " 33  dtir1                      124549 non-null  float64\n",
      "dtypes: float64(8), int64(5), object(21)\n",
      "memory usage: 26.7+ MB\n"
     ]
    }
   ],
   "source": [
    "loan.info()"
   ]
  },
  {
   "cell_type": "markdown",
   "id": "bdf39d87",
   "metadata": {},
   "source": [
    "### Dropping the columns which are not much influencing the target column"
   ]
  },
  {
   "cell_type": "code",
   "execution_count": 17,
   "id": "2b41ccd6",
   "metadata": {},
   "outputs": [],
   "source": [
    "loan_new = loan.drop(['ID','year','rate_of_interest','Interest_rate_spread','Upfront_charges','LTV','submission_of_application','Security_Type','occupancy_type','co-applicant_credit_type','Neg_ammortization','Region'],axis=1)"
   ]
  },
  {
   "cell_type": "code",
   "execution_count": 18,
   "id": "e7d56930",
   "metadata": {},
   "outputs": [
    {
     "data": {
      "text/plain": [
       "Index(['loan_limit', 'Gender', 'approv_in_adv', 'loan_type', 'loan_purpose',\n",
       "       'Credit_Worthiness', 'open_credit', 'business_or_commercial',\n",
       "       'loan_amount', 'term', 'interest_only', 'lump_sum_payment',\n",
       "       'property_value', 'construction_type', 'Secured_by', 'total_units',\n",
       "       'income', 'credit_type', 'Credit_Score', 'age', 'Status', 'dtir1'],\n",
       "      dtype='object')"
      ]
     },
     "execution_count": 18,
     "metadata": {},
     "output_type": "execute_result"
    }
   ],
   "source": [
    "loan_new.columns"
   ]
  },
  {
   "cell_type": "code",
   "execution_count": null,
   "id": "aa3a95f0",
   "metadata": {},
   "outputs": [],
   "source": []
  },
  {
   "cell_type": "code",
   "execution_count": 20,
   "id": "b6199b7b",
   "metadata": {},
   "outputs": [
    {
     "data": {
      "image/png": "[encoded data removed]",
      "text/plain": [
       "<Figure size 864x576 with 1 Axes>"
      ]
     },
     "metadata": {
      "needs_background": "light"
     },
     "output_type": "display_data"
    }
   ],
   "source": [
    "# plotting the histplot to see the relation between  'age' and 'status'\n",
    "plt.figure(figsize=(12,8))\n",
    "sns.histplot(x='age',data=loan_new,hue='Status')\n",
    "plt.show()"
   ]
  },
  {
   "cell_type": "code",
   "execution_count": 21,
   "id": "85eb4a5d",
   "metadata": {},
   "outputs": [],
   "source": [
    "#dropping the null values\n",
    "loan_new.dropna(inplace=True)"
   ]
  },
  {
   "cell_type": "code",
   "execution_count": 22,
   "id": "c66694fa",
   "metadata": {},
   "outputs": [
    {
     "data": {
      "text/plain": [
       "loan_limit                0\n",
       "Gender                    0\n",
       "approv_in_adv             0\n",
       "loan_type                 0\n",
       "loan_purpose              0\n",
       "Credit_Worthiness         0\n",
       "open_credit               0\n",
       "business_or_commercial    0\n",
       "loan_amount               0\n",
       "term                      0\n",
       "interest_only             0\n",
       "lump_sum_payment          0\n",
       "property_value            0\n",
       "construction_type         0\n",
       "Secured_by                0\n",
       "total_units               0\n",
       "income                    0\n",
       "credit_type               0\n",
       "Credit_Score              0\n",
       "age                       0\n",
       "Status                    0\n",
       "dtir1                     0\n",
       "dtype: int64"
      ]
     },
     "execution_count": 22,
     "metadata": {},
     "output_type": "execute_result"
    }
   ],
   "source": [
    "loan_new.isnull().sum()"
   ]
  },
  {
   "cell_type": "code",
   "execution_count": 23,
   "id": "f68e1055",
   "metadata": {},
   "outputs": [],
   "source": [
    "#converting the age values into numberical numerical values\n",
    "age=loan_new['age'].str.lstrip('<>').str.split('-')         "
   ]
  },
  {
   "cell_type": "code",
   "execution_count": 24,
   "id": "49039afd",
   "metadata": {},
   "outputs": [],
   "source": [
    "a=[]\n",
    "for i in age:\n",
    "    if (len(i)==2):\n",
    "        a.append((float(i[0])+float(i[1]))/2)\n",
    "    else:\n",
    "        a.append(float(i[0]))\n",
    "        "
   ]
  },
  {
   "cell_type": "code",
   "execution_count": 25,
   "id": "a1514e4f",
   "metadata": {
    "scrolled": true
   },
   "outputs": [],
   "source": [
    "loan_new['age']=a"
   ]
  },
  {
   "cell_type": "markdown",
   "id": "8e2e5626",
   "metadata": {},
   "source": [
    "**Plotting countplot for the all the categorical columns and their relation with \"status\"**"
   ]
  },
  {
   "cell_type": "code",
   "execution_count": 31,
   "id": "c294a97e",
   "metadata": {
    "scrolled": false
   },
   "outputs": [
    {
     "data": {
      "image/png": "[encoded data removed]",
      "text/plain": [
       "<Figure size 720x360 with 1 Axes>"
      ]
     },
     "metadata": {
      "needs_background": "light"
     },
     "output_type": "display_data"
    },
    {
     "data": {
      "image/png": "[encoded data removed]",
      "text/plain": [
       "<Figure size 720x360 with 1 Axes>"
      ]
     },
     "metadata": {
      "needs_background": "light"
     },
     "output_type": "display_data"
    },
    {
     "data": {
      "image/png": "[encoded data removed]",
      "text/plain": [
       "<Figure size 720x360 with 1 Axes>"
      ]
     },
     "metadata": {
      "needs_background": "light"
     },
     "output_type": "display_data"
    },
    {
     "data": {
      "image/png": "[encoded data removed]",
      "text/plain": [
       "<Figure size 720x360 with 1 Axes>"
      ]
     },
     "metadata": {
      "needs_background": "light"
     },
     "output_type": "display_data"
    },
    {
     "data": {
      "image/png": "[encoded data removed]",
      "text/plain": [
       "<Figure size 720x360 with 1 Axes>"
      ]
     },
     "metadata": {
      "needs_background": "light"
     },
     "output_type": "display_data"
    },
    {
     "data": {
      "image/png": "[encoded data removed]",
      "text/plain": [
       "<Figure size 720x360 with 1 Axes>"
      ]
     },
     "metadata": {
      "needs_background": "light"
     },
     "output_type": "display_data"
    },
    {
     "data": {
      "image/png": "[encoded data removed]",
      "text/plain": [
       "<Figure size 720x360 with 1 Axes>"
      ]
     },
     "metadata": {
      "needs_background": "light"
     },
     "output_type": "display_data"
    },
    {
     "data": {
      "image/png": "[encoded data removed]",
      "text/plain": [
       "<Figure size 720x360 with 1 Axes>"
      ]
     },
     "metadata": {
      "needs_background": "light"
     },
     "output_type": "display_data"
    },
    {
     "data": {
      "image/png": "[encoded data removed]",
      "text/plain": [
       "<Figure size 720x360 with 1 Axes>"
      ]
     },
     "metadata": {
      "needs_background": "light"
     },
     "output_type": "display_data"
    },
    {
     "data": {
      "image/png": "[encoded data removed]",
      "text/plain": [
       "<Figure size 720x360 with 1 Axes>"
      ]
     },
     "metadata": {
      "needs_background": "light"
     },
     "output_type": "display_data"
    },
    {
     "data": {
      "image/png": "[encoded data removed]",
      "text/plain": [
       "<Figure size 720x360 with 1 Axes>"
      ]
     },
     "metadata": {
      "needs_background": "light"
     },
     "output_type": "display_data"
    },
    {
     "data": {
      "image/png": "[encoded data removed]",
      "text/plain": [
       "<Figure size 720x360 with 1 Axes>"
      ]
     },
     "metadata": {
      "needs_background": "light"
     },
     "output_type": "display_data"
    },
    {
     "data": {
      "image/png": "[encoded data removed]",
      "text/plain": [
       "<Figure size 720x360 with 1 Axes>"
      ]
     },
     "metadata": {
      "needs_background": "light"
     },
     "output_type": "display_data"
    },
    {
     "data": {
      "image/png": "[encoded data removed]",
      "text/plain": [
       "<Figure size 720x360 with 1 Axes>"
      ]
     },
     "metadata": {
      "needs_background": "light"
     },
     "output_type": "display_data"
    }
   ],
   "source": [
    "for j in cols:\n",
    "    plt.figure(figsize=(10, 5)) \n",
    "    sns.countplot(x=j,data=loan_new,hue='Status')\n",
    "    plt.xticks(rotation=90)\n",
    "    plt.show()"
   ]
  },
  {
   "cell_type": "markdown",
   "id": "9cffc2ba",
   "metadata": {},
   "source": [
    "**from the above columns we can see that some more columns can be dropped from the dataset**"
   ]
  },
  {
   "cell_type": "code",
   "execution_count": 33,
   "id": "4ab1bf26",
   "metadata": {},
   "outputs": [],
   "source": [
    "loan_new.drop(['Gender','Secured_by'],axis=1,inplace=True)"
   ]
  },
  {
   "cell_type": "code",
   "execution_count": 34,
   "id": "00c5a0c7",
   "metadata": {},
   "outputs": [
    {
     "name": "stdout",
     "output_type": "stream",
     "text": [
      "loan_limit \t ['cf' 'ncf']\n",
      "approv_in_adv \t ['nopre' 'pre']\n",
      "loan_type \t ['type1' 'type3' 'type2']\n",
      "loan_purpose \t ['p1' 'p4' 'p3' 'p2']\n",
      "Credit_Worthiness \t ['l1' 'l2']\n",
      "open_credit \t ['nopc' 'opc']\n",
      "business_or_commercial \t ['nob/c' 'b/c']\n",
      "interest_only \t ['not_int' 'int_only']\n",
      "lump_sum_payment \t ['not_lpsm' 'lpsm']\n",
      "construction_type \t ['sb' 'mh']\n",
      "total_units \t ['1U' '2U' '3U' '4U']\n",
      "credit_type \t ['EXP' 'CRIF' 'CIB' 'EQUI']\n"
     ]
    }
   ],
   "source": [
    "cols=[]\n",
    "for i in loan_new.columns:\n",
    "    if (loan_new[i].dtypes=='object'):\n",
    "        cols.append(i)\n",
    "        print(i,'\\t',loan_new[i].unique())"
   ]
  },
  {
   "cell_type": "markdown",
   "id": "fce5fd96",
   "metadata": {},
   "source": [
    "**converting the categorical columns into binary values**"
   ]
  },
  {
   "cell_type": "code",
   "execution_count": 36,
   "id": "131097cd",
   "metadata": {},
   "outputs": [],
   "source": [
    "loan_new['loan_limit']=loan_new['loan_limit'].map({'cf':1,'ncf':0}).astype('int')\n",
    "loan_new['approv_in_adv']=loan_new['approv_in_adv'].map({'pre':1,'nopre':0}).astype('int')\n",
    "loan_new['Credit_Worthiness']=loan_new['Credit_Worthiness'].map({'l1':1,'l2':0}).astype('int')\n",
    "loan_new['open_credit']=loan_new['open_credit'].map({'opc':1,'nopc':0}).astype('int')\n",
    "loan_new['business_or_commercial']=loan_new['business_or_commercial'].map({'b/c':1,'nob/c':0}).astype('int')\n",
    "loan_new['interest_only']=loan_new['interest_only'].map({'int_only':1,'not_int':0}).astype('int')\n",
    "loan_new['lump_sum_payment']=loan_new['lump_sum_payment'].map({'lpsm':1,'not_lpsm':0}).astype('int')\n",
    "loan_new['construction_type']=loan_new['construction_type'].map({'mh':1,'sb':0}).astype('int')\n",
    "\n"
   ]
  },
  {
   "cell_type": "code",
   "execution_count": 37,
   "id": "38286297",
   "metadata": {},
   "outputs": [
    {
     "name": "stdout",
     "output_type": "stream",
     "text": [
      "loan_type \t ['type1' 'type3' 'type2']\n",
      "loan_purpose \t ['p1' 'p4' 'p3' 'p2']\n",
      "total_units \t ['1U' '2U' '3U' '4U']\n",
      "credit_type \t ['EXP' 'CRIF' 'CIB' 'EQUI']\n"
     ]
    }
   ],
   "source": [
    "for i in loan_new.columns:\n",
    "    if (loan_new[i].dtypes=='object'):\n",
    "        print(i,'\\t',loan_new[i].unique())"
   ]
  },
  {
   "cell_type": "code",
   "execution_count": 47,
   "id": "8dd98a73",
   "metadata": {},
   "outputs": [],
   "source": [
    "loan_new['total_units']=loan_new['total_units'].str.rstrip('U').astype('int')"
   ]
  },
  {
   "cell_type": "code",
   "execution_count": 38,
   "id": "87f8624a",
   "metadata": {},
   "outputs": [],
   "source": [
    "#creating dummies for the columns having more than two categories\n",
    "loan_new = pd.get_dummies(loan_new, columns=['loan_type','loan_purpose','credit_type'])"
   ]
  },
  {
   "cell_type": "markdown",
   "id": "b07850c1",
   "metadata": {},
   "source": [
    "**Checking correlation with target feature**"
   ]
  },
  {
   "cell_type": "code",
   "execution_count": 49,
   "id": "90cda47c",
   "metadata": {},
   "outputs": [
    {
     "data": {
      "text/plain": [
       "loan_limit               -0.053731\n",
       "approv_in_adv            -0.037598\n",
       "Credit_Worthiness        -0.024889\n",
       "open_credit              -0.010430\n",
       "business_or_commercial    0.120084\n",
       "loan_amount              -0.039242\n",
       "term                      0.009002\n",
       "interest_only             0.009186\n",
       "lump_sum_payment          0.178405\n",
       "property_value           -0.045411\n",
       "construction_type         0.035731\n",
       "total_units               0.028212\n",
       "income                   -0.066065\n",
       "Credit_Score              0.002860\n",
       "age                       0.045774\n",
       "Status                    1.000000\n",
       "dtir1                     0.079574\n",
       "loan_type_type1          -0.111863\n",
       "loan_type_type2           0.120084\n",
       "loan_type_type3           0.017139\n",
       "loan_purpose_p1          -0.024933\n",
       "loan_purpose_p2           0.037711\n",
       "loan_purpose_p3           0.030899\n",
       "loan_purpose_p4          -0.021833\n",
       "credit_type_CIB          -0.007335\n",
       "credit_type_CRIF          0.002622\n",
       "credit_type_EQUI          0.003714\n",
       "credit_type_EXP           0.005013\n",
       "dtype: float64"
      ]
     },
     "execution_count": 49,
     "metadata": {},
     "output_type": "execute_result"
    }
   ],
   "source": [
    "loan_new.corrwith(loan_new['Status'])"
   ]
  },
  {
   "cell_type": "code",
   "execution_count": null,
   "id": "3384bc7a",
   "metadata": {},
   "outputs": [],
   "source": []
  },
  {
   "cell_type": "code",
   "execution_count": 50,
   "id": "7a1de76c",
   "metadata": {},
   "outputs": [
    {
     "data": {
      "text/html": [
       "<div>\n",
       "<style scoped>\n",
       "    .dataframe tbody tr th:only-of-type {\n",
       "        vertical-align: middle;\n",
       "    }\n",
       "\n",
       "    .dataframe tbody tr th {\n",
       "        vertical-align: top;\n",
       "    }\n",
       "\n",
       "    .dataframe thead th {\n",
       "        text-align: right;\n",
       "    }\n",
       "</style>\n",
       "<table border=\"1\" class=\"dataframe\">\n",
       "  <thead>\n",
       "    <tr style=\"text-align: right;\">\n",
       "      <th></th>\n",
       "      <th>loan_limit</th>\n",
       "      <th>approv_in_adv</th>\n",
       "      <th>Credit_Worthiness</th>\n",
       "      <th>open_credit</th>\n",
       "      <th>business_or_commercial</th>\n",
       "      <th>loan_amount</th>\n",
       "      <th>term</th>\n",
       "      <th>interest_only</th>\n",
       "      <th>lump_sum_payment</th>\n",
       "      <th>property_value</th>\n",
       "      <th>...</th>\n",
       "      <th>loan_type_type2</th>\n",
       "      <th>loan_type_type3</th>\n",
       "      <th>loan_purpose_p1</th>\n",
       "      <th>loan_purpose_p2</th>\n",
       "      <th>loan_purpose_p3</th>\n",
       "      <th>loan_purpose_p4</th>\n",
       "      <th>credit_type_CIB</th>\n",
       "      <th>credit_type_CRIF</th>\n",
       "      <th>credit_type_EQUI</th>\n",
       "      <th>credit_type_EXP</th>\n",
       "    </tr>\n",
       "  </thead>\n",
       "  <tbody>\n",
       "    <tr>\n",
       "      <th>loan_limit</th>\n",
       "      <td>1.000000</td>\n",
       "      <td>-0.105022</td>\n",
       "      <td>-0.022941</td>\n",
       "      <td>-0.019811</td>\n",
       "      <td>0.016311</td>\n",
       "      <td>-0.258457</td>\n",
       "      <td>-0.016074</td>\n",
       "      <td>0.029193</td>\n",
       "      <td>0.013890</td>\n",
       "      <td>-0.200643</td>\n",
       "      <td>...</td>\n",
       "      <td>0.016311</td>\n",
       "      <td>-0.051622</td>\n",
       "      <td>-0.041889</td>\n",
       "      <td>0.006501</td>\n",
       "      <td>0.012036</td>\n",
       "      <td>0.023388</td>\n",
       "      <td>-0.004772</td>\n",
       "      <td>0.000418</td>\n",
       "      <td>0.001075</td>\n",
       "      <td>0.004605</td>\n",
       "    </tr>\n",
       "    <tr>\n",
       "      <th>approv_in_adv</th>\n",
       "      <td>-0.105022</td>\n",
       "      <td>1.000000</td>\n",
       "      <td>0.061696</td>\n",
       "      <td>-0.007991</td>\n",
       "      <td>0.023369</td>\n",
       "      <td>-0.033025</td>\n",
       "      <td>0.030728</td>\n",
       "      <td>-0.074633</td>\n",
       "      <td>-0.052396</td>\n",
       "      <td>-0.057599</td>\n",
       "      <td>...</td>\n",
       "      <td>0.023369</td>\n",
       "      <td>0.010827</td>\n",
       "      <td>0.169441</td>\n",
       "      <td>-0.016161</td>\n",
       "      <td>-0.059813</td>\n",
       "      <td>-0.086217</td>\n",
       "      <td>0.001960</td>\n",
       "      <td>-0.001113</td>\n",
       "      <td>0.003666</td>\n",
       "      <td>-0.000955</td>\n",
       "    </tr>\n",
       "    <tr>\n",
       "      <th>Credit_Worthiness</th>\n",
       "      <td>-0.022941</td>\n",
       "      <td>0.061696</td>\n",
       "      <td>1.000000</td>\n",
       "      <td>-0.235972</td>\n",
       "      <td>-0.011833</td>\n",
       "      <td>0.016653</td>\n",
       "      <td>0.008874</td>\n",
       "      <td>-0.047686</td>\n",
       "      <td>0.026753</td>\n",
       "      <td>-0.025349</td>\n",
       "      <td>...</td>\n",
       "      <td>-0.011833</td>\n",
       "      <td>-0.003489</td>\n",
       "      <td>-0.026879</td>\n",
       "      <td>-0.009796</td>\n",
       "      <td>-0.022604</td>\n",
       "      <td>0.051261</td>\n",
       "      <td>0.000140</td>\n",
       "      <td>0.001865</td>\n",
       "      <td>0.000874</td>\n",
       "      <td>-0.002084</td>\n",
       "    </tr>\n",
       "    <tr>\n",
       "      <th>open_credit</th>\n",
       "      <td>-0.019811</td>\n",
       "      <td>-0.007991</td>\n",
       "      <td>-0.235972</td>\n",
       "      <td>1.000000</td>\n",
       "      <td>-0.023562</td>\n",
       "      <td>-0.045628</td>\n",
       "      <td>0.027396</td>\n",
       "      <td>0.291608</td>\n",
       "      <td>-0.002472</td>\n",
       "      <td>0.135641</td>\n",
       "      <td>...</td>\n",
       "      <td>-0.023562</td>\n",
       "      <td>-0.016348</td>\n",
       "      <td>-0.034518</td>\n",
       "      <td>0.052644</td>\n",
       "      <td>0.056613</td>\n",
       "      <td>-0.044853</td>\n",
       "      <td>0.003241</td>\n",
       "      <td>0.005057</td>\n",
       "      <td>-0.000261</td>\n",
       "      <td>-0.008652</td>\n",
       "    </tr>\n",
       "    <tr>\n",
       "      <th>business_or_commercial</th>\n",
       "      <td>0.016311</td>\n",
       "      <td>0.023369</td>\n",
       "      <td>-0.011833</td>\n",
       "      <td>-0.023562</td>\n",
       "      <td>1.000000</td>\n",
       "      <td>-0.178972</td>\n",
       "      <td>0.081168</td>\n",
       "      <td>-0.007079</td>\n",
       "      <td>0.016752</td>\n",
       "      <td>-0.215002</td>\n",
       "      <td>...</td>\n",
       "      <td>1.000000</td>\n",
       "      <td>-0.093492</td>\n",
       "      <td>0.078450</td>\n",
       "      <td>0.005664</td>\n",
       "      <td>0.083583</td>\n",
       "      <td>-0.160667</td>\n",
       "      <td>-0.005525</td>\n",
       "      <td>-0.002410</td>\n",
       "      <td>0.004799</td>\n",
       "      <td>0.008291</td>\n",
       "    </tr>\n",
       "    <tr>\n",
       "      <th>loan_amount</th>\n",
       "      <td>-0.258457</td>\n",
       "      <td>-0.033025</td>\n",
       "      <td>0.016653</td>\n",
       "      <td>-0.045628</td>\n",
       "      <td>-0.178972</td>\n",
       "      <td>1.000000</td>\n",
       "      <td>0.174074</td>\n",
       "      <td>0.006602</td>\n",
       "      <td>0.001234</td>\n",
       "      <td>0.734763</td>\n",
       "      <td>...</td>\n",
       "      <td>-0.178972</td>\n",
       "      <td>-0.029315</td>\n",
       "      <td>0.027588</td>\n",
       "      <td>-0.107176</td>\n",
       "      <td>-0.156821</td>\n",
       "      <td>0.173646</td>\n",
       "      <td>0.009104</td>\n",
       "      <td>-0.001211</td>\n",
       "      <td>0.001607</td>\n",
       "      <td>-0.008390</td>\n",
       "    </tr>\n",
       "    <tr>\n",
       "      <th>term</th>\n",
       "      <td>-0.016074</td>\n",
       "      <td>0.030728</td>\n",
       "      <td>0.008874</td>\n",
       "      <td>0.027396</td>\n",
       "      <td>0.081168</td>\n",
       "      <td>0.174074</td>\n",
       "      <td>1.000000</td>\n",
       "      <td>0.020305</td>\n",
       "      <td>0.013849</td>\n",
       "      <td>0.049025</td>\n",
       "      <td>...</td>\n",
       "      <td>0.081168</td>\n",
       "      <td>0.052467</td>\n",
       "      <td>0.165200</td>\n",
       "      <td>-0.024662</td>\n",
       "      <td>-0.060081</td>\n",
       "      <td>-0.079343</td>\n",
       "      <td>-0.004925</td>\n",
       "      <td>0.003472</td>\n",
       "      <td>0.001787</td>\n",
       "      <td>0.001604</td>\n",
       "    </tr>\n",
       "    <tr>\n",
       "      <th>interest_only</th>\n",
       "      <td>0.029193</td>\n",
       "      <td>-0.074633</td>\n",
       "      <td>-0.047686</td>\n",
       "      <td>0.291608</td>\n",
       "      <td>-0.007079</td>\n",
       "      <td>0.006602</td>\n",
       "      <td>0.020305</td>\n",
       "      <td>1.000000</td>\n",
       "      <td>-0.027222</td>\n",
       "      <td>0.058257</td>\n",
       "      <td>...</td>\n",
       "      <td>-0.007079</td>\n",
       "      <td>-0.010502</td>\n",
       "      <td>-0.020450</td>\n",
       "      <td>0.007937</td>\n",
       "      <td>0.006087</td>\n",
       "      <td>0.009663</td>\n",
       "      <td>-0.003954</td>\n",
       "      <td>0.005933</td>\n",
       "      <td>-0.000896</td>\n",
       "      <td>-0.001944</td>\n",
       "    </tr>\n",
       "    <tr>\n",
       "      <th>lump_sum_payment</th>\n",
       "      <td>0.013890</td>\n",
       "      <td>-0.052396</td>\n",
       "      <td>0.026753</td>\n",
       "      <td>-0.002472</td>\n",
       "      <td>0.016752</td>\n",
       "      <td>0.001234</td>\n",
       "      <td>0.013849</td>\n",
       "      <td>-0.027222</td>\n",
       "      <td>1.000000</td>\n",
       "      <td>-0.004091</td>\n",
       "      <td>...</td>\n",
       "      <td>0.016752</td>\n",
       "      <td>0.001658</td>\n",
       "      <td>-0.008368</td>\n",
       "      <td>0.009138</td>\n",
       "      <td>-0.005619</td>\n",
       "      <td>0.010548</td>\n",
       "      <td>-0.001080</td>\n",
       "      <td>-0.003364</td>\n",
       "      <td>-0.000537</td>\n",
       "      <td>0.004625</td>\n",
       "    </tr>\n",
       "    <tr>\n",
       "      <th>property_value</th>\n",
       "      <td>-0.200643</td>\n",
       "      <td>-0.057599</td>\n",
       "      <td>-0.025349</td>\n",
       "      <td>0.135641</td>\n",
       "      <td>-0.215002</td>\n",
       "      <td>0.734763</td>\n",
       "      <td>0.049025</td>\n",
       "      <td>0.058257</td>\n",
       "      <td>-0.004091</td>\n",
       "      <td>1.000000</td>\n",
       "      <td>...</td>\n",
       "      <td>-0.215002</td>\n",
       "      <td>-0.093854</td>\n",
       "      <td>-0.133897</td>\n",
       "      <td>-0.000860</td>\n",
       "      <td>-0.047345</td>\n",
       "      <td>0.171587</td>\n",
       "      <td>0.016329</td>\n",
       "      <td>-0.001636</td>\n",
       "      <td>-0.000730</td>\n",
       "      <td>-0.015571</td>\n",
       "    </tr>\n",
       "    <tr>\n",
       "      <th>construction_type</th>\n",
       "      <td>0.004166</td>\n",
       "      <td>-0.002778</td>\n",
       "      <td>-0.004306</td>\n",
       "      <td>-0.001012</td>\n",
       "      <td>0.010462</td>\n",
       "      <td>-0.011417</td>\n",
       "      <td>0.001557</td>\n",
       "      <td>0.001537</td>\n",
       "      <td>0.010078</td>\n",
       "      <td>-0.010175</td>\n",
       "      <td>...</td>\n",
       "      <td>0.010462</td>\n",
       "      <td>0.000379</td>\n",
       "      <td>0.005924</td>\n",
       "      <td>0.004509</td>\n",
       "      <td>-0.002422</td>\n",
       "      <td>-0.004303</td>\n",
       "      <td>0.002083</td>\n",
       "      <td>-0.003383</td>\n",
       "      <td>-0.000064</td>\n",
       "      <td>0.001295</td>\n",
       "    </tr>\n",
       "    <tr>\n",
       "      <th>total_units</th>\n",
       "      <td>0.008293</td>\n",
       "      <td>-0.007057</td>\n",
       "      <td>-0.002579</td>\n",
       "      <td>-0.006403</td>\n",
       "      <td>-0.022587</td>\n",
       "      <td>0.091970</td>\n",
       "      <td>0.022901</td>\n",
       "      <td>-0.002958</td>\n",
       "      <td>0.004900</td>\n",
       "      <td>0.104160</td>\n",
       "      <td>...</td>\n",
       "      <td>-0.022587</td>\n",
       "      <td>-0.018139</td>\n",
       "      <td>0.001139</td>\n",
       "      <td>0.030154</td>\n",
       "      <td>-0.005007</td>\n",
       "      <td>-0.005506</td>\n",
       "      <td>-0.002149</td>\n",
       "      <td>-0.000777</td>\n",
       "      <td>-0.000447</td>\n",
       "      <td>0.003080</td>\n",
       "    </tr>\n",
       "    <tr>\n",
       "      <th>income</th>\n",
       "      <td>-0.137348</td>\n",
       "      <td>-0.015928</td>\n",
       "      <td>-0.018302</td>\n",
       "      <td>0.047885</td>\n",
       "      <td>-0.133318</td>\n",
       "      <td>0.451825</td>\n",
       "      <td>-0.054831</td>\n",
       "      <td>0.014914</td>\n",
       "      <td>-0.006778</td>\n",
       "      <td>0.415560</td>\n",
       "      <td>...</td>\n",
       "      <td>-0.133318</td>\n",
       "      <td>-0.061245</td>\n",
       "      <td>0.030868</td>\n",
       "      <td>-0.002494</td>\n",
       "      <td>-0.126580</td>\n",
       "      <td>0.105277</td>\n",
       "      <td>0.017219</td>\n",
       "      <td>-0.005804</td>\n",
       "      <td>0.000658</td>\n",
       "      <td>-0.012215</td>\n",
       "    </tr>\n",
       "    <tr>\n",
       "      <th>Credit_Score</th>\n",
       "      <td>-0.000806</td>\n",
       "      <td>0.000203</td>\n",
       "      <td>-0.000494</td>\n",
       "      <td>0.001314</td>\n",
       "      <td>-0.001648</td>\n",
       "      <td>0.005412</td>\n",
       "      <td>-0.003019</td>\n",
       "      <td>-0.002602</td>\n",
       "      <td>-0.000624</td>\n",
       "      <td>0.003818</td>\n",
       "      <td>...</td>\n",
       "      <td>-0.001648</td>\n",
       "      <td>-0.002994</td>\n",
       "      <td>-0.001957</td>\n",
       "      <td>-0.001460</td>\n",
       "      <td>0.002246</td>\n",
       "      <td>-0.000101</td>\n",
       "      <td>-0.002333</td>\n",
       "      <td>-0.002353</td>\n",
       "      <td>-0.003785</td>\n",
       "      <td>0.004934</td>\n",
       "    </tr>\n",
       "    <tr>\n",
       "      <th>age</th>\n",
       "      <td>0.004158</td>\n",
       "      <td>-0.031815</td>\n",
       "      <td>-0.005296</td>\n",
       "      <td>0.041344</td>\n",
       "      <td>-0.052275</td>\n",
       "      <td>-0.187697</td>\n",
       "      <td>-0.090155</td>\n",
       "      <td>-0.001746</td>\n",
       "      <td>0.000233</td>\n",
       "      <td>0.016459</td>\n",
       "      <td>...</td>\n",
       "      <td>-0.052275</td>\n",
       "      <td>0.098207</td>\n",
       "      <td>-0.248698</td>\n",
       "      <td>0.071790</td>\n",
       "      <td>0.281296</td>\n",
       "      <td>-0.091552</td>\n",
       "      <td>0.008330</td>\n",
       "      <td>0.000903</td>\n",
       "      <td>-0.000335</td>\n",
       "      <td>-0.009739</td>\n",
       "    </tr>\n",
       "    <tr>\n",
       "      <th>Status</th>\n",
       "      <td>-0.053731</td>\n",
       "      <td>-0.037598</td>\n",
       "      <td>-0.024889</td>\n",
       "      <td>-0.010430</td>\n",
       "      <td>0.120084</td>\n",
       "      <td>-0.039242</td>\n",
       "      <td>0.009002</td>\n",
       "      <td>0.009186</td>\n",
       "      <td>0.178405</td>\n",
       "      <td>-0.045411</td>\n",
       "      <td>...</td>\n",
       "      <td>0.120084</td>\n",
       "      <td>0.017139</td>\n",
       "      <td>-0.024933</td>\n",
       "      <td>0.037711</td>\n",
       "      <td>0.030899</td>\n",
       "      <td>-0.021833</td>\n",
       "      <td>-0.007335</td>\n",
       "      <td>0.002622</td>\n",
       "      <td>0.003714</td>\n",
       "      <td>0.005013</td>\n",
       "    </tr>\n",
       "    <tr>\n",
       "      <th>dtir1</th>\n",
       "      <td>-0.001122</td>\n",
       "      <td>0.015397</td>\n",
       "      <td>-0.015314</td>\n",
       "      <td>-0.010566</td>\n",
       "      <td>0.176061</td>\n",
       "      <td>0.014455</td>\n",
       "      <td>0.111302</td>\n",
       "      <td>-0.005920</td>\n",
       "      <td>0.007637</td>\n",
       "      <td>-0.056716</td>\n",
       "      <td>...</td>\n",
       "      <td>0.176061</td>\n",
       "      <td>0.086992</td>\n",
       "      <td>0.060989</td>\n",
       "      <td>-0.026226</td>\n",
       "      <td>0.049621</td>\n",
       "      <td>-0.098957</td>\n",
       "      <td>-0.010016</td>\n",
       "      <td>0.005248</td>\n",
       "      <td>-0.002210</td>\n",
       "      <td>0.005188</td>\n",
       "    </tr>\n",
       "    <tr>\n",
       "      <th>loan_type_type1</th>\n",
       "      <td>0.018418</td>\n",
       "      <td>-0.026436</td>\n",
       "      <td>0.012145</td>\n",
       "      <td>0.030039</td>\n",
       "      <td>-0.784374</td>\n",
       "      <td>0.169069</td>\n",
       "      <td>-0.101081</td>\n",
       "      <td>0.012507</td>\n",
       "      <td>-0.015148</td>\n",
       "      <td>0.239638</td>\n",
       "      <td>...</td>\n",
       "      <td>-0.784374</td>\n",
       "      <td>-0.544239</td>\n",
       "      <td>-0.083997</td>\n",
       "      <td>0.018947</td>\n",
       "      <td>-0.162509</td>\n",
       "      <td>0.240423</td>\n",
       "      <td>0.004877</td>\n",
       "      <td>0.003293</td>\n",
       "      <td>-0.003398</td>\n",
       "      <td>-0.008531</td>\n",
       "    </tr>\n",
       "    <tr>\n",
       "      <th>loan_type_type2</th>\n",
       "      <td>0.016311</td>\n",
       "      <td>0.023369</td>\n",
       "      <td>-0.011833</td>\n",
       "      <td>-0.023562</td>\n",
       "      <td>1.000000</td>\n",
       "      <td>-0.178972</td>\n",
       "      <td>0.081168</td>\n",
       "      <td>-0.007079</td>\n",
       "      <td>0.016752</td>\n",
       "      <td>-0.215002</td>\n",
       "      <td>...</td>\n",
       "      <td>1.000000</td>\n",
       "      <td>-0.093492</td>\n",
       "      <td>0.078450</td>\n",
       "      <td>0.005664</td>\n",
       "      <td>0.083583</td>\n",
       "      <td>-0.160667</td>\n",
       "      <td>-0.005525</td>\n",
       "      <td>-0.002410</td>\n",
       "      <td>0.004799</td>\n",
       "      <td>0.008291</td>\n",
       "    </tr>\n",
       "    <tr>\n",
       "      <th>loan_type_type3</th>\n",
       "      <td>-0.051622</td>\n",
       "      <td>0.010827</td>\n",
       "      <td>-0.003489</td>\n",
       "      <td>-0.016348</td>\n",
       "      <td>-0.093492</td>\n",
       "      <td>-0.029315</td>\n",
       "      <td>0.052467</td>\n",
       "      <td>-0.010502</td>\n",
       "      <td>0.001658</td>\n",
       "      <td>-0.093854</td>\n",
       "      <td>...</td>\n",
       "      <td>-0.093492</td>\n",
       "      <td>1.000000</td>\n",
       "      <td>0.028720</td>\n",
       "      <td>-0.038072</td>\n",
       "      <td>0.147797</td>\n",
       "      <td>-0.168601</td>\n",
       "      <td>-0.000356</td>\n",
       "      <td>-0.002026</td>\n",
       "      <td>-0.001037</td>\n",
       "      <td>0.002480</td>\n",
       "    </tr>\n",
       "    <tr>\n",
       "      <th>loan_purpose_p1</th>\n",
       "      <td>-0.041889</td>\n",
       "      <td>0.169441</td>\n",
       "      <td>-0.026879</td>\n",
       "      <td>-0.034518</td>\n",
       "      <td>0.078450</td>\n",
       "      <td>0.027588</td>\n",
       "      <td>0.165200</td>\n",
       "      <td>-0.020450</td>\n",
       "      <td>-0.008368</td>\n",
       "      <td>-0.133897</td>\n",
       "      <td>...</td>\n",
       "      <td>0.078450</td>\n",
       "      <td>0.028720</td>\n",
       "      <td>1.000000</td>\n",
       "      <td>-0.086953</td>\n",
       "      <td>-0.466879</td>\n",
       "      <td>-0.392313</td>\n",
       "      <td>-0.000119</td>\n",
       "      <td>0.003029</td>\n",
       "      <td>0.007252</td>\n",
       "      <td>-0.003070</td>\n",
       "    </tr>\n",
       "    <tr>\n",
       "      <th>loan_purpose_p2</th>\n",
       "      <td>0.006501</td>\n",
       "      <td>-0.016161</td>\n",
       "      <td>-0.009796</td>\n",
       "      <td>0.052644</td>\n",
       "      <td>0.005664</td>\n",
       "      <td>-0.107176</td>\n",
       "      <td>-0.024662</td>\n",
       "      <td>0.007937</td>\n",
       "      <td>0.009138</td>\n",
       "      <td>-0.000860</td>\n",
       "      <td>...</td>\n",
       "      <td>0.005664</td>\n",
       "      <td>-0.038072</td>\n",
       "      <td>-0.086953</td>\n",
       "      <td>1.000000</td>\n",
       "      <td>-0.128796</td>\n",
       "      <td>-0.108226</td>\n",
       "      <td>0.005291</td>\n",
       "      <td>-0.001444</td>\n",
       "      <td>-0.000631</td>\n",
       "      <td>-0.004097</td>\n",
       "    </tr>\n",
       "    <tr>\n",
       "      <th>loan_purpose_p3</th>\n",
       "      <td>0.012036</td>\n",
       "      <td>-0.059813</td>\n",
       "      <td>-0.022604</td>\n",
       "      <td>0.056613</td>\n",
       "      <td>0.083583</td>\n",
       "      <td>-0.156821</td>\n",
       "      <td>-0.060081</td>\n",
       "      <td>0.006087</td>\n",
       "      <td>-0.005619</td>\n",
       "      <td>-0.047345</td>\n",
       "      <td>...</td>\n",
       "      <td>0.083583</td>\n",
       "      <td>0.147797</td>\n",
       "      <td>-0.466879</td>\n",
       "      <td>-0.128796</td>\n",
       "      <td>1.000000</td>\n",
       "      <td>-0.581101</td>\n",
       "      <td>-0.002973</td>\n",
       "      <td>0.003294</td>\n",
       "      <td>-0.003386</td>\n",
       "      <td>-0.000231</td>\n",
       "    </tr>\n",
       "    <tr>\n",
       "      <th>loan_purpose_p4</th>\n",
       "      <td>0.023388</td>\n",
       "      <td>-0.086217</td>\n",
       "      <td>0.051261</td>\n",
       "      <td>-0.044853</td>\n",
       "      <td>-0.160667</td>\n",
       "      <td>0.173646</td>\n",
       "      <td>-0.079343</td>\n",
       "      <td>0.009663</td>\n",
       "      <td>0.010548</td>\n",
       "      <td>0.171587</td>\n",
       "      <td>...</td>\n",
       "      <td>-0.160667</td>\n",
       "      <td>-0.168601</td>\n",
       "      <td>-0.392313</td>\n",
       "      <td>-0.108226</td>\n",
       "      <td>-0.581101</td>\n",
       "      <td>1.000000</td>\n",
       "      <td>0.001517</td>\n",
       "      <td>-0.005738</td>\n",
       "      <td>-0.002845</td>\n",
       "      <td>0.004352</td>\n",
       "    </tr>\n",
       "    <tr>\n",
       "      <th>credit_type_CIB</th>\n",
       "      <td>-0.004772</td>\n",
       "      <td>0.001960</td>\n",
       "      <td>0.000140</td>\n",
       "      <td>0.003241</td>\n",
       "      <td>-0.005525</td>\n",
       "      <td>0.009104</td>\n",
       "      <td>-0.004925</td>\n",
       "      <td>-0.003954</td>\n",
       "      <td>-0.001080</td>\n",
       "      <td>0.016329</td>\n",
       "      <td>...</td>\n",
       "      <td>-0.005525</td>\n",
       "      <td>-0.000356</td>\n",
       "      <td>-0.000119</td>\n",
       "      <td>0.005291</td>\n",
       "      <td>-0.002973</td>\n",
       "      <td>0.001517</td>\n",
       "      <td>1.000000</td>\n",
       "      <td>-0.542872</td>\n",
       "      <td>-0.003117</td>\n",
       "      <td>-0.496308</td>\n",
       "    </tr>\n",
       "    <tr>\n",
       "      <th>credit_type_CRIF</th>\n",
       "      <td>0.000418</td>\n",
       "      <td>-0.001113</td>\n",
       "      <td>0.001865</td>\n",
       "      <td>0.005057</td>\n",
       "      <td>-0.002410</td>\n",
       "      <td>-0.001211</td>\n",
       "      <td>0.003472</td>\n",
       "      <td>0.005933</td>\n",
       "      <td>-0.003364</td>\n",
       "      <td>-0.001636</td>\n",
       "      <td>...</td>\n",
       "      <td>-0.002410</td>\n",
       "      <td>-0.002026</td>\n",
       "      <td>0.003029</td>\n",
       "      <td>-0.001444</td>\n",
       "      <td>0.003294</td>\n",
       "      <td>-0.005738</td>\n",
       "      <td>-0.542872</td>\n",
       "      <td>1.000000</td>\n",
       "      <td>-0.002887</td>\n",
       "      <td>-0.459613</td>\n",
       "    </tr>\n",
       "    <tr>\n",
       "      <th>credit_type_EQUI</th>\n",
       "      <td>0.001075</td>\n",
       "      <td>0.003666</td>\n",
       "      <td>0.000874</td>\n",
       "      <td>-0.000261</td>\n",
       "      <td>0.004799</td>\n",
       "      <td>0.001607</td>\n",
       "      <td>0.001787</td>\n",
       "      <td>-0.000896</td>\n",
       "      <td>-0.000537</td>\n",
       "      <td>-0.000730</td>\n",
       "      <td>...</td>\n",
       "      <td>0.004799</td>\n",
       "      <td>-0.001037</td>\n",
       "      <td>0.007252</td>\n",
       "      <td>-0.000631</td>\n",
       "      <td>-0.003386</td>\n",
       "      <td>-0.002845</td>\n",
       "      <td>-0.003117</td>\n",
       "      <td>-0.002887</td>\n",
       "      <td>1.000000</td>\n",
       "      <td>-0.002639</td>\n",
       "    </tr>\n",
       "    <tr>\n",
       "      <th>credit_type_EXP</th>\n",
       "      <td>0.004605</td>\n",
       "      <td>-0.000955</td>\n",
       "      <td>-0.002084</td>\n",
       "      <td>-0.008652</td>\n",
       "      <td>0.008291</td>\n",
       "      <td>-0.008390</td>\n",
       "      <td>0.001604</td>\n",
       "      <td>-0.001944</td>\n",
       "      <td>0.004625</td>\n",
       "      <td>-0.015571</td>\n",
       "      <td>...</td>\n",
       "      <td>0.008291</td>\n",
       "      <td>0.002480</td>\n",
       "      <td>-0.003070</td>\n",
       "      <td>-0.004097</td>\n",
       "      <td>-0.000231</td>\n",
       "      <td>0.004352</td>\n",
       "      <td>-0.496308</td>\n",
       "      <td>-0.459613</td>\n",
       "      <td>-0.002639</td>\n",
       "      <td>1.000000</td>\n",
       "    </tr>\n",
       "  </tbody>\n",
       "</table>\n",
       "<p>28 rows × 28 columns</p>\n",
       "</div>"
      ],
      "text/plain": [
       "                        loan_limit  approv_in_adv  Credit_Worthiness  \\\n",
       "loan_limit                1.000000      -0.105022          -0.022941   \n",
       "approv_in_adv            -0.105022       1.000000           0.061696   \n",
       "Credit_Worthiness        -0.022941       0.061696           1.000000   \n",
       "open_credit              -0.019811      -0.007991          -0.235972   \n",
       "business_or_commercial    0.016311       0.023369          -0.011833   \n",
       "loan_amount              -0.258457      -0.033025           0.016653   \n",
       "term                     -0.016074       0.030728           0.008874   \n",
       "interest_only             0.029193      -0.074633          -0.047686   \n",
       "lump_sum_payment          0.013890      -0.052396           0.026753   \n",
       "property_value           -0.200643      -0.057599          -0.025349   \n",
       "construction_type         0.004166      -0.002778          -0.004306   \n",
       "total_units               0.008293      -0.007057          -0.002579   \n",
       "income                   -0.137348      -0.015928          -0.018302   \n",
       "Credit_Score             -0.000806       0.000203          -0.000494   \n",
       "age                       0.004158      -0.031815          -0.005296   \n",
       "Status                   -0.053731      -0.037598          -0.024889   \n",
       "dtir1                    -0.001122       0.015397          -0.015314   \n",
       "loan_type_type1           0.018418      -0.026436           0.012145   \n",
       "loan_type_type2           0.016311       0.023369          -0.011833   \n",
       "loan_type_type3          -0.051622       0.010827          -0.003489   \n",
       "loan_purpose_p1          -0.041889       0.169441          -0.026879   \n",
       "loan_purpose_p2           0.006501      -0.016161          -0.009796   \n",
       "loan_purpose_p3           0.012036      -0.059813          -0.022604   \n",
       "loan_purpose_p4           0.023388      -0.086217           0.051261   \n",
       "credit_type_CIB          -0.004772       0.001960           0.000140   \n",
       "credit_type_CRIF          0.000418      -0.001113           0.001865   \n",
       "credit_type_EQUI          0.001075       0.003666           0.000874   \n",
       "credit_type_EXP           0.004605      -0.000955          -0.002084   \n",
       "\n",
       "                        open_credit  business_or_commercial  loan_amount  \\\n",
       "loan_limit                -0.019811                0.016311    -0.258457   \n",
       "approv_in_adv             -0.007991                0.023369    -0.033025   \n",
       "Credit_Worthiness         -0.235972               -0.011833     0.016653   \n",
       "open_credit                1.000000               -0.023562    -0.045628   \n",
       "business_or_commercial    -0.023562                1.000000    -0.178972   \n",
       "loan_amount               -0.045628               -0.178972     1.000000   \n",
       "term                       0.027396                0.081168     0.174074   \n",
       "interest_only              0.291608               -0.007079     0.006602   \n",
       "lump_sum_payment          -0.002472                0.016752     0.001234   \n",
       "property_value             0.135641               -0.215002     0.734763   \n",
       "construction_type         -0.001012                0.010462    -0.011417   \n",
       "total_units               -0.006403               -0.022587     0.091970   \n",
       "income                     0.047885               -0.133318     0.451825   \n",
       "Credit_Score               0.001314               -0.001648     0.005412   \n",
       "age                        0.041344               -0.052275    -0.187697   \n",
       "Status                    -0.010430                0.120084    -0.039242   \n",
       "dtir1                     -0.010566                0.176061     0.014455   \n",
       "loan_type_type1            0.030039               -0.784374     0.169069   \n",
       "loan_type_type2           -0.023562                1.000000    -0.178972   \n",
       "loan_type_type3           -0.016348               -0.093492    -0.029315   \n",
       "loan_purpose_p1           -0.034518                0.078450     0.027588   \n",
       "loan_purpose_p2            0.052644                0.005664    -0.107176   \n",
       "loan_purpose_p3            0.056613                0.083583    -0.156821   \n",
       "loan_purpose_p4           -0.044853               -0.160667     0.173646   \n",
       "credit_type_CIB            0.003241               -0.005525     0.009104   \n",
       "credit_type_CRIF           0.005057               -0.002410    -0.001211   \n",
       "credit_type_EQUI          -0.000261                0.004799     0.001607   \n",
       "credit_type_EXP           -0.008652                0.008291    -0.008390   \n",
       "\n",
       "                            term  interest_only  lump_sum_payment  \\\n",
       "loan_limit             -0.016074       0.029193          0.013890   \n",
       "approv_in_adv           0.030728      -0.074633         -0.052396   \n",
       "Credit_Worthiness       0.008874      -0.047686          0.026753   \n",
       "open_credit             0.027396       0.291608         -0.002472   \n",
       "business_or_commercial  0.081168      -0.007079          0.016752   \n",
       "loan_amount             0.174074       0.006602          0.001234   \n",
       "term                    1.000000       0.020305          0.013849   \n",
       "interest_only           0.020305       1.000000         -0.027222   \n",
       "lump_sum_payment        0.013849      -0.027222          1.000000   \n",
       "property_value          0.049025       0.058257         -0.004091   \n",
       "construction_type       0.001557       0.001537          0.010078   \n",
       "total_units             0.022901      -0.002958          0.004900   \n",
       "income                 -0.054831       0.014914         -0.006778   \n",
       "Credit_Score           -0.003019      -0.002602         -0.000624   \n",
       "age                    -0.090155      -0.001746          0.000233   \n",
       "Status                  0.009002       0.009186          0.178405   \n",
       "dtir1                   0.111302      -0.005920          0.007637   \n",
       "loan_type_type1        -0.101081       0.012507         -0.015148   \n",
       "loan_type_type2         0.081168      -0.007079          0.016752   \n",
       "loan_type_type3         0.052467      -0.010502          0.001658   \n",
       "loan_purpose_p1         0.165200      -0.020450         -0.008368   \n",
       "loan_purpose_p2        -0.024662       0.007937          0.009138   \n",
       "loan_purpose_p3        -0.060081       0.006087         -0.005619   \n",
       "loan_purpose_p4        -0.079343       0.009663          0.010548   \n",
       "credit_type_CIB        -0.004925      -0.003954         -0.001080   \n",
       "credit_type_CRIF        0.003472       0.005933         -0.003364   \n",
       "credit_type_EQUI        0.001787      -0.000896         -0.000537   \n",
       "credit_type_EXP         0.001604      -0.001944          0.004625   \n",
       "\n",
       "                        property_value  ...  loan_type_type2  loan_type_type3  \\\n",
       "loan_limit                   -0.200643  ...         0.016311        -0.051622   \n",
       "approv_in_adv                -0.057599  ...         0.023369         0.010827   \n",
       "Credit_Worthiness            -0.025349  ...        -0.011833        -0.003489   \n",
       "open_credit                   0.135641  ...        -0.023562        -0.016348   \n",
       "business_or_commercial       -0.215002  ...         1.000000        -0.093492   \n",
       "loan_amount                   0.734763  ...        -0.178972        -0.029315   \n",
       "term                          0.049025  ...         0.081168         0.052467   \n",
       "interest_only                 0.058257  ...        -0.007079        -0.010502   \n",
       "lump_sum_payment             -0.004091  ...         0.016752         0.001658   \n",
       "property_value                1.000000  ...        -0.215002        -0.093854   \n",
       "construction_type            -0.010175  ...         0.010462         0.000379   \n",
       "total_units                   0.104160  ...        -0.022587        -0.018139   \n",
       "income                        0.415560  ...        -0.133318        -0.061245   \n",
       "Credit_Score                  0.003818  ...        -0.001648        -0.002994   \n",
       "age                           0.016459  ...        -0.052275         0.098207   \n",
       "Status                       -0.045411  ...         0.120084         0.017139   \n",
       "dtir1                        -0.056716  ...         0.176061         0.086992   \n",
       "loan_type_type1               0.239638  ...        -0.784374        -0.544239   \n",
       "loan_type_type2              -0.215002  ...         1.000000        -0.093492   \n",
       "loan_type_type3              -0.093854  ...        -0.093492         1.000000   \n",
       "loan_purpose_p1              -0.133897  ...         0.078450         0.028720   \n",
       "loan_purpose_p2              -0.000860  ...         0.005664        -0.038072   \n",
       "loan_purpose_p3              -0.047345  ...         0.083583         0.147797   \n",
       "loan_purpose_p4               0.171587  ...        -0.160667        -0.168601   \n",
       "credit_type_CIB               0.016329  ...        -0.005525        -0.000356   \n",
       "credit_type_CRIF             -0.001636  ...        -0.002410        -0.002026   \n",
       "credit_type_EQUI             -0.000730  ...         0.004799        -0.001037   \n",
       "credit_type_EXP              -0.015571  ...         0.008291         0.002480   \n",
       "\n",
       "                        loan_purpose_p1  loan_purpose_p2  loan_purpose_p3  \\\n",
       "loan_limit                    -0.041889         0.006501         0.012036   \n",
       "approv_in_adv                  0.169441        -0.016161        -0.059813   \n",
       "Credit_Worthiness             -0.026879        -0.009796        -0.022604   \n",
       "open_credit                   -0.034518         0.052644         0.056613   \n",
       "business_or_commercial         0.078450         0.005664         0.083583   \n",
       "loan_amount                    0.027588        -0.107176        -0.156821   \n",
       "term                           0.165200        -0.024662        -0.060081   \n",
       "interest_only                 -0.020450         0.007937         0.006087   \n",
       "lump_sum_payment              -0.008368         0.009138        -0.005619   \n",
       "property_value                -0.133897        -0.000860        -0.047345   \n",
       "construction_type              0.005924         0.004509        -0.002422   \n",
       "total_units                    0.001139         0.030154        -0.005007   \n",
       "income                         0.030868        -0.002494        -0.126580   \n",
       "Credit_Score                  -0.001957        -0.001460         0.002246   \n",
       "age                           -0.248698         0.071790         0.281296   \n",
       "Status                        -0.024933         0.037711         0.030899   \n",
       "dtir1                          0.060989        -0.026226         0.049621   \n",
       "loan_type_type1               -0.083997         0.018947        -0.162509   \n",
       "loan_type_type2                0.078450         0.005664         0.083583   \n",
       "loan_type_type3                0.028720        -0.038072         0.147797   \n",
       "loan_purpose_p1                1.000000        -0.086953        -0.466879   \n",
       "loan_purpose_p2               -0.086953         1.000000        -0.128796   \n",
       "loan_purpose_p3               -0.466879        -0.128796         1.000000   \n",
       "loan_purpose_p4               -0.392313        -0.108226        -0.581101   \n",
       "credit_type_CIB               -0.000119         0.005291        -0.002973   \n",
       "credit_type_CRIF               0.003029        -0.001444         0.003294   \n",
       "credit_type_EQUI               0.007252        -0.000631        -0.003386   \n",
       "credit_type_EXP               -0.003070        -0.004097        -0.000231   \n",
       "\n",
       "                        loan_purpose_p4  credit_type_CIB  credit_type_CRIF  \\\n",
       "loan_limit                     0.023388        -0.004772          0.000418   \n",
       "approv_in_adv                 -0.086217         0.001960         -0.001113   \n",
       "Credit_Worthiness              0.051261         0.000140          0.001865   \n",
       "open_credit                   -0.044853         0.003241          0.005057   \n",
       "business_or_commercial        -0.160667        -0.005525         -0.002410   \n",
       "loan_amount                    0.173646         0.009104         -0.001211   \n",
       "term                          -0.079343        -0.004925          0.003472   \n",
       "interest_only                  0.009663        -0.003954          0.005933   \n",
       "lump_sum_payment               0.010548        -0.001080         -0.003364   \n",
       "property_value                 0.171587         0.016329         -0.001636   \n",
       "construction_type             -0.004303         0.002083         -0.003383   \n",
       "total_units                   -0.005506        -0.002149         -0.000777   \n",
       "income                         0.105277         0.017219         -0.005804   \n",
       "Credit_Score                  -0.000101        -0.002333         -0.002353   \n",
       "age                           -0.091552         0.008330          0.000903   \n",
       "Status                        -0.021833        -0.007335          0.002622   \n",
       "dtir1                         -0.098957        -0.010016          0.005248   \n",
       "loan_type_type1                0.240423         0.004877          0.003293   \n",
       "loan_type_type2               -0.160667        -0.005525         -0.002410   \n",
       "loan_type_type3               -0.168601        -0.000356         -0.002026   \n",
       "loan_purpose_p1               -0.392313        -0.000119          0.003029   \n",
       "loan_purpose_p2               -0.108226         0.005291         -0.001444   \n",
       "loan_purpose_p3               -0.581101        -0.002973          0.003294   \n",
       "loan_purpose_p4                1.000000         0.001517         -0.005738   \n",
       "credit_type_CIB                0.001517         1.000000         -0.542872   \n",
       "credit_type_CRIF              -0.005738        -0.542872          1.000000   \n",
       "credit_type_EQUI              -0.002845        -0.003117         -0.002887   \n",
       "credit_type_EXP                0.004352        -0.496308         -0.459613   \n",
       "\n",
       "                        credit_type_EQUI  credit_type_EXP  \n",
       "loan_limit                      0.001075         0.004605  \n",
       "approv_in_adv                   0.003666        -0.000955  \n",
       "Credit_Worthiness               0.000874        -0.002084  \n",
       "open_credit                    -0.000261        -0.008652  \n",
       "business_or_commercial          0.004799         0.008291  \n",
       "loan_amount                     0.001607        -0.008390  \n",
       "term                            0.001787         0.001604  \n",
       "interest_only                  -0.000896        -0.001944  \n",
       "lump_sum_payment               -0.000537         0.004625  \n",
       "property_value                 -0.000730        -0.015571  \n",
       "construction_type              -0.000064         0.001295  \n",
       "total_units                    -0.000447         0.003080  \n",
       "income                          0.000658        -0.012215  \n",
       "Credit_Score                   -0.003785         0.004934  \n",
       "age                            -0.000335        -0.009739  \n",
       "Status                          0.003714         0.005013  \n",
       "dtir1                          -0.002210         0.005188  \n",
       "loan_type_type1                -0.003398        -0.008531  \n",
       "loan_type_type2                 0.004799         0.008291  \n",
       "loan_type_type3                -0.001037         0.002480  \n",
       "loan_purpose_p1                 0.007252        -0.003070  \n",
       "loan_purpose_p2                -0.000631        -0.004097  \n",
       "loan_purpose_p3                -0.003386        -0.000231  \n",
       "loan_purpose_p4                -0.002845         0.004352  \n",
       "credit_type_CIB                -0.003117        -0.496308  \n",
       "credit_type_CRIF               -0.002887        -0.459613  \n",
       "credit_type_EQUI                1.000000        -0.002639  \n",
       "credit_type_EXP                -0.002639         1.000000  \n",
       "\n",
       "[28 rows x 28 columns]"
      ]
     },
     "execution_count": 50,
     "metadata": {},
     "output_type": "execute_result"
    }
   ],
   "source": [
    "loan_new.corr()"
   ]
  },
  {
   "cell_type": "markdown",
   "id": "b477a729",
   "metadata": {},
   "source": [
    "## Splitting the data into training and testing set"
   ]
  },
  {
   "cell_type": "code",
   "execution_count": 51,
   "id": "fe59fca1",
   "metadata": {},
   "outputs": [],
   "source": [
    "x = loan_new.drop('Status', axis=1)\n",
    "y = loan_new['Status']"
   ]
  },
  {
   "cell_type": "code",
   "execution_count": 52,
   "id": "7e7a4404",
   "metadata": {},
   "outputs": [],
   "source": [
    "col=['loan_amount','term','income','Credit_Score']"
   ]
  },
  {
   "cell_type": "markdown",
   "id": "71bb748d",
   "metadata": {},
   "source": [
    "**Converting the numerical columns into standard values using feature scaling method**"
   ]
  },
  {
   "cell_type": "code",
   "execution_count": 53,
   "id": "42bee8e1",
   "metadata": {},
   "outputs": [],
   "source": [
    "from sklearn.preprocessing import StandardScaler\n",
    "st = StandardScaler()\n",
    "x[col]=st.fit_transform(x[col])"
   ]
  },
  {
   "cell_type": "code",
   "execution_count": 54,
   "id": "b27fb575",
   "metadata": {},
   "outputs": [],
   "source": [
    "from sklearn.model_selection import train_test_split\n",
    "x_train,x_test,y_train,y_test=train_test_split(x,y,test_size=0.20,random_state=42)"
   ]
  },
  {
   "cell_type": "markdown",
   "id": "75b4c432",
   "metadata": {},
   "source": [
    "### Importing evaluation metrics"
   ]
  },
  {
   "cell_type": "code",
   "execution_count": 55,
   "id": "a70ff82d",
   "metadata": {},
   "outputs": [],
   "source": [
    "from sklearn.model_selection import cross_val_score\n",
    "from sklearn.metrics import accuracy_score"
   ]
  },
  {
   "cell_type": "markdown",
   "id": "9866f18c",
   "metadata": {},
   "source": [
    "# Creating different algorithms for our Project"
   ]
  },
  {
   "cell_type": "markdown",
   "id": "7810bf3c",
   "metadata": {},
   "source": [
    "## Logistic Regression"
   ]
  },
  {
   "cell_type": "code",
   "execution_count": 56,
   "id": "1ac8c94f",
   "metadata": {},
   "outputs": [],
   "source": [
    "from sklearn.linear_model import LogisticRegression\n",
    "model1=LogisticRegression()\n",
    "model1.fit(x_train,y_train)\n",
    "y_pred=model1.predict(x_test)\n",
    "acc_score1=accuracy_score(y_test,y_pred)\n",
    "crs_score1=np.mean(cross_val_score(model1,x,y))"
   ]
  },
  {
   "cell_type": "markdown",
   "id": "ea1a183f",
   "metadata": {},
   "source": [
    "## DecisionTree Classifier"
   ]
  },
  {
   "cell_type": "code",
   "execution_count": 57,
   "id": "c4876f40",
   "metadata": {},
   "outputs": [],
   "source": [
    "from sklearn.tree import DecisionTreeClassifier\n",
    "model2 = DecisionTreeClassifier()\n",
    "model2.fit(x_train,y_train)\n",
    "y_pred=model2.predict(x_test)\n",
    "acc_score2=accuracy_score(y_test,y_pred)\n",
    "crs_score2=np.mean(cross_val_score(model2,x,y))"
   ]
  },
  {
   "cell_type": "markdown",
   "id": "4f73aaba",
   "metadata": {},
   "source": [
    "## RandomForestClassifier"
   ]
  },
  {
   "cell_type": "code",
   "execution_count": 58,
   "id": "9bd7a483",
   "metadata": {},
   "outputs": [],
   "source": [
    "from sklearn.ensemble import RandomForestClassifier\n",
    "model3 =RandomForestClassifier()\n",
    "model3.fit(x_train,y_train)\n",
    "y_pred=model3.predict(x_test)\n",
    "acc_score3=accuracy_score(y_test,y_pred)\n",
    "crs_score3=np.mean(cross_val_score(model3,x,y))"
   ]
  },
  {
   "cell_type": "code",
   "execution_count": 60,
   "id": "66ae60ce",
   "metadata": {},
   "outputs": [],
   "source": [
    "from sklearn.model_selection import RandomizedSearchCV"
   ]
  },
  {
   "cell_type": "markdown",
   "id": "52afb247",
   "metadata": {},
   "source": [
    "## Hypertuning parameters- Logistic Regression"
   ]
  },
  {
   "cell_type": "code",
   "execution_count": 61,
   "id": "08abf9cc",
   "metadata": {},
   "outputs": [],
   "source": [
    "param={\"C\":np.logspace(-4,4,20),\n",
    "             \"solver\":['liblinear','newton-cg','sag']}"
   ]
  },
  {
   "cell_type": "code",
   "execution_count": 62,
   "id": "860dccec",
   "metadata": {},
   "outputs": [],
   "source": [
    "rs_log=RandomizedSearchCV(LogisticRegression(),\n",
    "                   param_distributions=param,\n",
    "                  n_iter=10,cv=5,verbose=True)"
   ]
  },
  {
   "cell_type": "code",
   "execution_count": 63,
   "id": "d45a7e26",
   "metadata": {},
   "outputs": [
    {
     "name": "stdout",
     "output_type": "stream",
     "text": [
      "Fitting 5 folds for each of 10 candidates, totalling 50 fits\n"
     ]
    },
    {
     "data": {
      "text/plain": [
       "RandomizedSearchCV(cv=5, estimator=LogisticRegression(),\n",
       "                   param_distributions={'C': array([1.00000000e-04, 2.63665090e-04, 6.95192796e-04, 1.83298071e-03,\n",
       "       4.83293024e-03, 1.27427499e-02, 3.35981829e-02, 8.85866790e-02,\n",
       "       2.33572147e-01, 6.15848211e-01, 1.62377674e+00, 4.28133240e+00,\n",
       "       1.12883789e+01, 2.97635144e+01, 7.84759970e+01, 2.06913808e+02,\n",
       "       5.45559478e+02, 1.43844989e+03, 3.79269019e+03, 1.00000000e+04]),\n",
       "                                        'solver': ['liblinear', 'newton-cg',\n",
       "                                                   'sag']},\n",
       "                   verbose=True)"
      ]
     },
     "execution_count": 63,
     "metadata": {},
     "output_type": "execute_result"
    }
   ],
   "source": [
    "rs_log.fit(x,y)"
   ]
  },
  {
   "cell_type": "code",
   "execution_count": 64,
   "id": "cfdfefaa",
   "metadata": {},
   "outputs": [
    {
     "data": {
      "text/plain": [
       "0.8425869228114182"
      ]
     },
     "execution_count": 64,
     "metadata": {},
     "output_type": "execute_result"
    }
   ],
   "source": [
    "new_score1=rs_log.best_score_\n",
    "new_score1"
   ]
  },
  {
   "cell_type": "code",
   "execution_count": 65,
   "id": "e497fb9f",
   "metadata": {},
   "outputs": [
    {
     "data": {
      "text/plain": [
       "{'solver': 'newton-cg', 'C': 29.763514416313132}"
      ]
     },
     "execution_count": 65,
     "metadata": {},
     "output_type": "execute_result"
    }
   ],
   "source": [
    "rs_log.best_params_"
   ]
  },
  {
   "cell_type": "markdown",
   "id": "4d797b1c",
   "metadata": {},
   "source": [
    "## Hypertuning parameters- Random Forest Classifier"
   ]
  },
  {
   "cell_type": "code",
   "execution_count": 66,
   "id": "8b5c26cc",
   "metadata": {},
   "outputs": [],
   "source": [
    "rf_grid={'n_estimators':np.arange(10,800,10),\n",
    "  'max_features':['auto','sqrt','log2'],\n",
    " 'max_depth':[None,3,5,10,20,30],\n",
    " 'min_samples_split':[2,5,20,50,100],\n",
    " 'min_samples_leaf':[1,2,5,10]\n",
    " }"
   ]
  },
  {
   "cell_type": "code",
   "execution_count": 67,
   "id": "7fa1a7c2",
   "metadata": {},
   "outputs": [],
   "source": [
    "rs_rf=RandomizedSearchCV(RandomForestClassifier(),\n",
    "                  param_distributions=rf_grid,\n",
    "                   cv=5,\n",
    "                   n_iter=8,\n",
    "                  verbose=True)"
   ]
  },
  {
   "cell_type": "code",
   "execution_count": 68,
   "id": "bcfdfe14",
   "metadata": {},
   "outputs": [
    {
     "name": "stdout",
     "output_type": "stream",
     "text": [
      "Fitting 5 folds for each of 8 candidates, totalling 40 fits\n"
     ]
    },
    {
     "data": {
      "text/plain": [
       "RandomizedSearchCV(cv=5, estimator=RandomForestClassifier(), n_iter=8,\n",
       "                   param_distributions={'max_depth': [None, 3, 5, 10, 20, 30],\n",
       "                                        'max_features': ['auto', 'sqrt',\n",
       "                                                         'log2'],\n",
       "                                        'min_samples_leaf': [1, 2, 5, 10],\n",
       "                                        'min_samples_split': [2, 5, 20, 50,\n",
       "                                                              100],\n",
       "                                        'n_estimators': array([ 10,  20,  30,  40,  50,  60,  70,  80,  90, 100, 110, 120, 130,\n",
       "       140, 150, 160, 170, 180, 190, 200, 210, 220, 230, 240, 250, 260,\n",
       "       270, 280, 290, 300, 310, 320, 330, 340, 350, 360, 370, 380, 390,\n",
       "       400, 410, 420, 430, 440, 450, 460, 470, 480, 490, 500, 510, 520,\n",
       "       530, 540, 550, 560, 570, 580, 590, 600, 610, 620, 630, 640, 650,\n",
       "       660, 670, 680, 690, 700, 710, 720, 730, 740, 750, 760, 770, 780,\n",
       "       790])},\n",
       "                   verbose=True)"
      ]
     },
     "execution_count": 68,
     "metadata": {},
     "output_type": "execute_result"
    }
   ],
   "source": [
    "rs_rf.fit(x_train,y_train)"
   ]
  },
  {
   "cell_type": "code",
   "execution_count": 69,
   "id": "762e050d",
   "metadata": {},
   "outputs": [
    {
     "data": {
      "text/plain": [
       "0.8638275826339239"
      ]
     },
     "execution_count": 69,
     "metadata": {},
     "output_type": "execute_result"
    }
   ],
   "source": [
    "new_score3=rs_rf.best_score_\n",
    "new_score3"
   ]
  },
  {
   "cell_type": "code",
   "execution_count": 70,
   "id": "86b2a18d",
   "metadata": {},
   "outputs": [
    {
     "data": {
      "text/plain": [
       "{'n_estimators': 310,\n",
       " 'min_samples_split': 20,\n",
       " 'min_samples_leaf': 5,\n",
       " 'max_features': 'auto',\n",
       " 'max_depth': 30}"
      ]
     },
     "execution_count": 70,
     "metadata": {},
     "output_type": "execute_result"
    }
   ],
   "source": [
    "rs_rf.best_params_"
   ]
  },
  {
   "cell_type": "code",
   "execution_count": null,
   "id": "cbd16b7c",
   "metadata": {},
   "outputs": [],
   "source": []
  },
  {
   "cell_type": "markdown",
   "id": "349c894c",
   "metadata": {},
   "source": [
    "## Hypertuning Parameter- Decision Tree Classifier"
   ]
  },
  {
   "cell_type": "code",
   "execution_count": 71,
   "id": "e7bf33d6",
   "metadata": {},
   "outputs": [],
   "source": [
    "params = {\n",
    "    'max_depth': [2, 3, 5, 10, 20],\n",
    "    'max_features': ['auto', 'sqrt', 'log2'],\n",
    "    'min_samples_leaf': [5, 10, 20, 50, 100],\n",
    "    'criterion': [\"gini\", \"entropy\"]\n",
    "}"
   ]
  },
  {
   "cell_type": "code",
   "execution_count": 72,
   "id": "c781c165",
   "metadata": {},
   "outputs": [],
   "source": [
    "rs_dt=RandomizedSearchCV(DecisionTreeClassifier(),param_distributions=params,\n",
    "                   cv=5,\n",
    "                   n_iter=10,\n",
    "                  verbose=True)"
   ]
  },
  {
   "cell_type": "code",
   "execution_count": 73,
   "id": "e6fba530",
   "metadata": {},
   "outputs": [
    {
     "name": "stdout",
     "output_type": "stream",
     "text": [
      "Fitting 5 folds for each of 10 candidates, totalling 50 fits\n"
     ]
    },
    {
     "data": {
      "text/plain": [
       "RandomizedSearchCV(cv=5, estimator=DecisionTreeClassifier(),\n",
       "                   param_distributions={'criterion': ['gini', 'entropy'],\n",
       "                                        'max_depth': [2, 3, 5, 10, 20],\n",
       "                                        'max_features': ['auto', 'sqrt',\n",
       "                                                         'log2'],\n",
       "                                        'min_samples_leaf': [5, 10, 20, 50,\n",
       "                                                             100]},\n",
       "                   verbose=True)"
      ]
     },
     "execution_count": 73,
     "metadata": {},
     "output_type": "execute_result"
    }
   ],
   "source": [
    "rs_dt.fit(x_train,y_train)"
   ]
  },
  {
   "cell_type": "code",
   "execution_count": 74,
   "id": "ab69d291",
   "metadata": {},
   "outputs": [
    {
     "data": {
      "text/plain": [
       "0.849507823023521"
      ]
     },
     "execution_count": 74,
     "metadata": {},
     "output_type": "execute_result"
    }
   ],
   "source": [
    "new_score2=rs_dt.best_score_\n",
    "new_score2"
   ]
  },
  {
   "cell_type": "code",
   "execution_count": 75,
   "id": "93fb3d5a",
   "metadata": {},
   "outputs": [
    {
     "data": {
      "text/plain": [
       "{'min_samples_leaf': 5,\n",
       " 'max_features': 'auto',\n",
       " 'max_depth': 5,\n",
       " 'criterion': 'gini'}"
      ]
     },
     "execution_count": 75,
     "metadata": {},
     "output_type": "execute_result"
    }
   ],
   "source": [
    "rs_dt.best_params_"
   ]
  },
  {
   "cell_type": "markdown",
   "id": "baf33675",
   "metadata": {},
   "source": [
    "# Evaluation of different algorithms"
   ]
  },
  {
   "cell_type": "code",
   "execution_count": 76,
   "id": "8d95f5eb",
   "metadata": {},
   "outputs": [
    {
     "data": {
      "text/html": [
       "<div>\n",
       "<style scoped>\n",
       "    .dataframe tbody tr th:only-of-type {\n",
       "        vertical-align: middle;\n",
       "    }\n",
       "\n",
       "    .dataframe tbody tr th {\n",
       "        vertical-align: top;\n",
       "    }\n",
       "\n",
       "    .dataframe thead th {\n",
       "        text-align: right;\n",
       "    }\n",
       "</style>\n",
       "<table border=\"1\" class=\"dataframe\">\n",
       "  <thead>\n",
       "    <tr style=\"text-align: right;\">\n",
       "      <th></th>\n",
       "      <th>Algorithm</th>\n",
       "      <th>Accuracy score</th>\n",
       "      <th>Cross val Score</th>\n",
       "      <th>Hypertuning Score</th>\n",
       "    </tr>\n",
       "  </thead>\n",
       "  <tbody>\n",
       "    <tr>\n",
       "      <th>0</th>\n",
       "      <td>Logistic Regression</td>\n",
       "      <td>0.839274</td>\n",
       "      <td>0.836942</td>\n",
       "      <td>0.842587</td>\n",
       "    </tr>\n",
       "    <tr>\n",
       "      <th>1</th>\n",
       "      <td>DecisionTree</td>\n",
       "      <td>0.779178</td>\n",
       "      <td>0.783053</td>\n",
       "      <td>0.849508</td>\n",
       "    </tr>\n",
       "    <tr>\n",
       "      <th>2</th>\n",
       "      <td>RandomForest</td>\n",
       "      <td>0.867250</td>\n",
       "      <td>0.866352</td>\n",
       "      <td>0.863828</td>\n",
       "    </tr>\n",
       "  </tbody>\n",
       "</table>\n",
       "</div>"
      ],
      "text/plain": [
       "             Algorithm  Accuracy score  Cross val Score  Hypertuning Score\n",
       "0  Logistic Regression        0.839274         0.836942           0.842587\n",
       "1         DecisionTree        0.779178         0.783053           0.849508\n",
       "2         RandomForest        0.867250         0.866352           0.863828"
      ]
     },
     "execution_count": 76,
     "metadata": {},
     "output_type": "execute_result"
    }
   ],
   "source": [
    "model=['Logistic Regression','DecisionTree','RandomForest']\n",
    "accuracy=[acc_score1,acc_score2,acc_score3]\n",
    "crs=[crs_score1,crs_score2,crs_score3]\n",
    "hp=[new_score1,new_score2,new_score3]\n",
    "result=pd.DataFrame({'Algorithm':model,'Accuracy score':accuracy,'Cross val Score':crs,'Hypertuning Score':hp})\n",
    "result"
   ]
  },
  {
   "cell_type": "code",
   "execution_count": 84,
   "id": "f800f439",
   "metadata": {},
   "outputs": [
    {
     "data": {
      "image/png": "[encoded data removed]",
      "text/plain": [
       "<Figure size 1080x360 with 3 Axes>"
      ]
     },
     "metadata": {
      "needs_background": "light"
     },
     "output_type": "display_data"
    }
   ],
   "source": [
    "fig, axes = plt.subplots(1, 3, figsize=(15, 5))\n",
    "fig.suptitle('Visualising the Results of all Algorithms')\n",
    "sns.barplot(ax=axes[0],x=result['Algorithm'],y=result['Accuracy score'])\n",
    "sns.barplot(ax=axes[1],x=result['Algorithm'],y=result['Cross val Score'])\n",
    "sns.barplot(ax=axes[2],x=result['Algorithm'],y=result['Hypertuning Score'])\n",
    "\n",
    "plt.show()"
   ]
  },
  {
   "cell_type": "markdown",
   "id": "53e044c7",
   "metadata": {},
   "source": [
    "# Conclusion"
   ]
  },
  {
   "cell_type": "markdown",
   "id": "95f5af1a",
   "metadata": {},
   "source": [
    "1. we can see the score of different algorithms before and after hypertuning <br>\n",
    "2. For decisionTree the score has changed significantly if we use the best parameter <br>\n",
    "3. RandomForest classifier is the best model we got to predict the loan default."
   ]
  },
  {
   "cell_type": "code",
   "execution_count": null,
   "id": "208a1b50",
   "metadata": {},
   "outputs": [],
   "source": []
  }
 ],
 "metadata": {
  "kernelspec": {
   "display_name": "Python 3 (ipykernel)",
   "language": "python",
   "name": "python3"
  },
  "language_info": {
   "codemirror_mode": {
    "name": "ipython",
    "version": 3
   },
   "file_extension": ".py",
   "mimetype": "text/x-python",
   "name": "python",
   "nbconvert_exporter": "python",
   "pygments_lexer": "ipython3",
   "version": "3.9.12"
  }
 },
 "nbformat": 4,
 "nbformat_minor": 5
}
